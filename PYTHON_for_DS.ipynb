{
  "nbformat": 4,
  "nbformat_minor": 0,
  "metadata": {
    "colab": {
      "provenance": [],
      "authorship_tag": "ABX9TyOJ7Y8D/kVvHEGvBot28TsT",
      "include_colab_link": true
    },
    "kernelspec": {
      "name": "python3",
      "display_name": "Python 3"
    },
    "language_info": {
      "name": "python"
    }
  },
  "cells": [
    {
      "cell_type": "markdown",
      "metadata": {
        "id": "view-in-github",
        "colab_type": "text"
      },
      "source": [
        "<a href=\"https://colab.research.google.com/github/Bramhaja/Python-Practice-for-DS/blob/main/PYTHON_for_DS.ipynb\" target=\"_parent\"><img src=\"https://colab.research.google.com/assets/colab-badge.svg\" alt=\"Open In Colab\"/></a>"
      ]
    },
    {
      "cell_type": "code",
      "execution_count": null,
      "metadata": {
        "colab": {
          "base_uri": "https://localhost:8080/"
        },
        "id": "PiT7Jh5mMAHM",
        "outputId": "860997ac-a64d-42ed-deda-c5be56e98227"
      },
      "outputs": [
        {
          "output_type": "stream",
          "name": "stdout",
          "text": [
            "Laptop <class 'str'>\n",
            "Laptop <class 'str'>\n",
            "Laptop <class 'str'>\n",
            "product1 <class 'int'>\n",
            "Name <class 'str'>\n",
            "Salary <class 'float'>\n",
            "I am taking 10 20 Laptop\n"
          ]
        }
      ],
      "source": [
        "product1 = 10\n",
        "product2 = 20\n",
        "Salary = 45000.99\n",
        "Name1 = 'Laptop'\n",
        "Name2 = \"Laptop\"\n",
        "Name3 = \"\"\"Laptop\"\"\"\n",
        "print(Name1,type(Name1))\n",
        "print(Name2,type(Name2))\n",
        "print(Name3,type(Name3))\n",
        "print(\"product1\",type(product1))\n",
        "print(\"Name\",type(Name))\n",
        "print(\"Salary\",type(Salary))\n",
        "print(\"I am taking\",product1,product2, Name)\n"
      ]
    },
    {
      "cell_type": "code",
      "source": [],
      "metadata": {
        "id": "Pa-rDpVLzSCk"
      },
      "execution_count": null,
      "outputs": []
    },
    {
      "cell_type": "code",
      "source": [
        "values = {10:\"john\",20:\"lakshmi\",30:\"karthik\",40:\"udhy\",50:\"fruits\"}\n",
        "print(values)\n",
        "print(values,type(values))"
      ],
      "metadata": {
        "colab": {
          "base_uri": "https://localhost:8080/"
        },
        "id": "opE_30lQbhI8",
        "outputId": "de2de246-66b4-431d-edd5-43ab3a7f3f5f"
      },
      "execution_count": null,
      "outputs": [
        {
          "output_type": "stream",
          "name": "stdout",
          "text": [
            "{10: 'john', 20: 'lakshmi', 30: 'karthik', 40: 'udhy', 50: 'fruits'}\n",
            "{10: 'john', 20: 'lakshmi', 30: 'karthik', 40: 'udhy', 50: 'fruits'} <class 'dict'>\n"
          ]
        }
      ]
    },
    {
      "cell_type": "code",
      "source": [
        "r = range(1, 100)\n",
        "for add in r:\n",
        "    print(value)"
      ],
      "metadata": {
        "colab": {
          "base_uri": "https://localhost:8080/"
        },
        "id": "q_WqECwHdUCB",
        "outputId": "45e63c43-e6ad-43f7-dd20-3f1866d52680"
      },
      "execution_count": null,
      "outputs": [
        {
          "output_type": "stream",
          "name": "stdout",
          "text": [
            "99\n",
            "99\n",
            "99\n",
            "99\n",
            "99\n",
            "99\n",
            "99\n",
            "99\n",
            "99\n",
            "99\n",
            "99\n",
            "99\n",
            "99\n",
            "99\n",
            "99\n",
            "99\n",
            "99\n",
            "99\n",
            "99\n",
            "99\n",
            "99\n",
            "99\n",
            "99\n",
            "99\n",
            "99\n",
            "99\n",
            "99\n",
            "99\n",
            "99\n",
            "99\n",
            "99\n",
            "99\n",
            "99\n",
            "99\n",
            "99\n",
            "99\n",
            "99\n",
            "99\n",
            "99\n",
            "99\n",
            "99\n",
            "99\n",
            "99\n",
            "99\n",
            "99\n",
            "99\n",
            "99\n",
            "99\n",
            "99\n",
            "99\n",
            "99\n",
            "99\n",
            "99\n",
            "99\n",
            "99\n",
            "99\n",
            "99\n",
            "99\n",
            "99\n",
            "99\n",
            "99\n",
            "99\n",
            "99\n",
            "99\n",
            "99\n",
            "99\n",
            "99\n",
            "99\n",
            "99\n",
            "99\n",
            "99\n",
            "99\n",
            "99\n",
            "99\n",
            "99\n",
            "99\n",
            "99\n",
            "99\n",
            "99\n",
            "99\n",
            "99\n",
            "99\n",
            "99\n",
            "99\n",
            "99\n",
            "99\n",
            "99\n",
            "99\n",
            "99\n",
            "99\n",
            "99\n",
            "99\n",
            "99\n",
            "99\n",
            "99\n",
            "99\n",
            "99\n",
            "99\n",
            "99\n"
          ]
        }
      ]
    },
    {
      "cell_type": "code",
      "source": [
        "r = range(1, 100)\n",
        "for add in r:\n",
        "    print(value)"
      ],
      "metadata": {
        "colab": {
          "base_uri": "https://localhost:8080/"
        },
        "id": "lUzT2jdxdqVF",
        "outputId": "a390b510-69c0-4e21-f857-5126a1a2f7d4"
      },
      "execution_count": null,
      "outputs": [
        {
          "output_type": "stream",
          "name": "stdout",
          "text": [
            "99\n",
            "99\n",
            "99\n",
            "99\n",
            "99\n",
            "99\n",
            "99\n",
            "99\n",
            "99\n",
            "99\n",
            "99\n",
            "99\n",
            "99\n",
            "99\n",
            "99\n",
            "99\n",
            "99\n",
            "99\n",
            "99\n",
            "99\n",
            "99\n",
            "99\n",
            "99\n",
            "99\n",
            "99\n",
            "99\n",
            "99\n",
            "99\n",
            "99\n",
            "99\n",
            "99\n",
            "99\n",
            "99\n",
            "99\n",
            "99\n",
            "99\n",
            "99\n",
            "99\n",
            "99\n",
            "99\n",
            "99\n",
            "99\n",
            "99\n",
            "99\n",
            "99\n",
            "99\n",
            "99\n",
            "99\n",
            "99\n",
            "99\n",
            "99\n",
            "99\n",
            "99\n",
            "99\n",
            "99\n",
            "99\n",
            "99\n",
            "99\n",
            "99\n",
            "99\n",
            "99\n",
            "99\n",
            "99\n",
            "99\n",
            "99\n",
            "99\n",
            "99\n",
            "99\n",
            "99\n",
            "99\n",
            "99\n",
            "99\n",
            "99\n",
            "99\n",
            "99\n",
            "99\n",
            "99\n",
            "99\n",
            "99\n",
            "99\n",
            "99\n",
            "99\n",
            "99\n",
            "99\n",
            "99\n",
            "99\n",
            "99\n",
            "99\n",
            "99\n",
            "99\n",
            "99\n",
            "99\n",
            "99\n",
            "99\n",
            "99\n",
            "99\n",
            "99\n",
            "99\n",
            "99\n"
          ]
        }
      ]
    },
    {
      "cell_type": "code",
      "source": [],
      "metadata": {
        "id": "F_DLVqGqduWv"
      },
      "execution_count": null,
      "outputs": []
    }
  ]
}